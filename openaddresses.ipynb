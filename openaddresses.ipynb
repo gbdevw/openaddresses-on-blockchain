{
 "cells": [
  {
   "cell_type": "code",
   "execution_count": 55,
   "id": "78ba929e-50d2-494c-af73-853c3bbdff5b",
   "metadata": {},
   "outputs": [
    {
     "name": "stdout",
     "output_type": "stream",
     "text": [
      "bru.csv\n",
      "vlg.csv\n",
      "wal.csv\n"
     ]
    }
   ],
   "source": [
    "%%sh\n",
    "ls /home/glue_user/data"
   ]
  },
  {
   "cell_type": "code",
   "execution_count": 56,
   "id": "19b9e3a4-38a1-4b18-b186-b50ee89ec640",
   "metadata": {},
   "outputs": [
    {
     "name": "stdout",
     "output_type": "stream",
     "text": [
      "addresses.sol\n"
     ]
    }
   ],
   "source": [
    "%%sh\n",
    "ls /home/glue_user/contract"
   ]
  },
  {
   "cell_type": "code",
   "execution_count": 57,
   "id": "bac5db1b-8392-4941-9e43-a29b68eba45d",
   "metadata": {},
   "outputs": [],
   "source": [
    "# Configure connection with node\n",
    "from web3 import Web3\n",
    "w3 = Web3(Web3.HTTPProvider('http://ethnode:8545'))"
   ]
  },
  {
   "cell_type": "code",
   "execution_count": 58,
   "id": "8474fb93-608c-4298-87d1-fb2a5a2cefb1",
   "metadata": {},
   "outputs": [
    {
     "name": "stdout",
     "output_type": "stream",
     "text": [
      "AttributeDict({'number': 0, 'hash': HexBytes('0x18ff4a4dcbc85213fdb4ed1022f7d8a196d20ec8d2cb520b1367fd61db72d360'), 'parentHash': HexBytes('0x0000000000000000000000000000000000000000000000000000000000000000'), 'mixHash': HexBytes('0x0000000000000000000000000000000000000000000000000000000000000000'), 'nonce': HexBytes('0x0000000000000000'), 'sha3Uncles': HexBytes('0x1dcc4de8dec75d7aab85b567b6ccd41ad312451b948a7413f0a142fd40d49347'), 'logsBloom': HexBytes('0x00000000000000000000000000000000000000000000000000000000000000000000000000000000000000000000000000000000000000000000000000000000000000000000000000000000000000000000000000000000000000000000000000000000000000000000000000000000000000000000000000000000000000000000000000000000000000000000000000000000000000000000000000000000000000000000000000000000000000000000000000000000000000000000000000000000000000000000000000000000000000000000000000000000000000000000000000000000000000000000000000000000000000000000000000000000'), 'transactionsRoot': HexBytes('0x56e81f171bcc55a6ff8345e692c0f86e5b48e01b996cadc001622fb5e363b421'), 'stateRoot': HexBytes('0xe89e30a7eca4164c1eb36ac8d6e758327fa73f6973ffe43fd71d8e1123e62593'), 'receiptsRoot': HexBytes('0x56e81f171bcc55a6ff8345e692c0f86e5b48e01b996cadc001622fb5e363b421'), 'miner': '0x0000000000000000000000000000000000000000', 'difficulty': 0, 'totalDifficulty': 0, 'extraData': HexBytes('0x'), 'size': 1000, 'gasLimit': 6721975, 'gasUsed': 0, 'timestamp': 1659903576, 'transactions': [], 'uncles': []})\n"
     ]
    }
   ],
   "source": [
    "# Smoke test connection\n",
    "print(w3.eth.get_block('latest'))"
   ]
  },
  {
   "cell_type": "code",
   "execution_count": 59,
   "id": "9e27e588-bbdc-429d-86a3-4eaed78bef4c",
   "metadata": {},
   "outputs": [
    {
     "name": "stdout",
     "output_type": "stream",
     "text": [
      "['0x70157348Ff5cb951094e00F8B52cF26314ac23e5', '0x5348A398bF0BE37Bc45aBdc2Ec8F1FD34EfC7332', '0xD4928Cb9A2F7ecCF5f4a9363B75Dc6519ECC6811', '0xC87324A7C8A6F2B8B0247d411604da1B6A0ABd08', '0x582464e8Fd01665347d67B388C943e47fA6152f1', '0xc2b51c4B53A1326D7b2C34b111eA06073Ce80db5', '0xE55f10C681E6dbBe1052d48fC88571f000258527', '0x4887Ba67066aF78D7705a0209Bdc8f78eAC54Ef0', '0x341FAAF66840680fbD664390ED1abc0bf067123E', '0x4656853523f01f023e51d4836e6a4d633ce31CAc']\n",
      "0x70157348Ff5cb951094e00F8B52cF26314ac23e5\n"
     ]
    }
   ],
   "source": [
    "# Configure default account used to sign transactions\n",
    "w3.eth.default_account = w3.eth.accounts[0]\n",
    "print(w3.eth.accounts)\n",
    "print(w3.eth.default_account)"
   ]
  },
  {
   "cell_type": "code",
   "execution_count": 60,
   "id": "4586566f-ac27-4c4e-ba57-7d6f97b5b50a",
   "metadata": {},
   "outputs": [
    {
     "data": {
      "text/plain": [
       "Version('0.8.15')"
      ]
     },
     "execution_count": 60,
     "metadata": {},
     "output_type": "execute_result"
    }
   ],
   "source": [
    "# Configure smart contract compiler\n",
    "from solcx import install_solc\n",
    "install_solc(version='latest')"
   ]
  },
  {
   "cell_type": "code",
   "execution_count": 61,
   "id": "77225291-7787-4eee-a32c-e4322e9a0d91",
   "metadata": {},
   "outputs": [],
   "source": [
    "# Read contract source code\n",
    "from solcx import compile_source\n",
    "with open('/home/glue_user/contract/addresses.sol') as f:\n",
    "    compiled_sol = compile_source(f.read(), output_values=['abi', 'bin'])"
   ]
  },
  {
   "cell_type": "code",
   "execution_count": 62,
   "id": "74e4e641-cbef-4ee4-bb81-fe9dccda0d58",
   "metadata": {},
   "outputs": [],
   "source": [
    "# Extract smart contract abi and bytecode\n",
    "contract_id, contract_interface = compiled_sol.popitem()\n",
    "bytecode = contract_interface['bin']\n",
    "abi = contract_interface['abi']"
   ]
  },
  {
   "cell_type": "code",
   "execution_count": 63,
   "id": "fbc2a8cb-6da0-4ec6-ac8a-77d523a1c45e",
   "metadata": {},
   "outputs": [],
   "source": [
    "# Deploy smart contract\n",
    "addresses_contract = w3.eth.contract(abi=abi, bytecode=bytecode)\n",
    "tx_hash = addresses_contract.constructor().transact()\n",
    "tx_receipt = w3.eth.wait_for_transaction_receipt(tx_hash)\n",
    "deployed_addresses_contract = w3.eth.contract(address=tx_receipt.contractAddress,abi=abi)"
   ]
  },
  {
   "cell_type": "code",
   "execution_count": 64,
   "id": "1f20cabd-62eb-4939-a1af-fa7f10768bc5",
   "metadata": {},
   "outputs": [
    {
     "data": {
      "text/plain": [
       "[]"
      ]
     },
     "execution_count": 64,
     "metadata": {},
     "output_type": "execute_result"
    }
   ],
   "source": [
    "# Smoke test : call a contract view function\n",
    "deployed_addresses_contract.functions.listPostcodes().call()"
   ]
  },
  {
   "cell_type": "code",
   "execution_count": 65,
   "id": "77595811-ab50-4d35-a630-d95502affc74",
   "metadata": {},
   "outputs": [
    {
     "ename": "ContractLogicError",
     "evalue": "execution reverted: VM Exception while processing transaction: revert Address already exist.",
     "output_type": "error",
     "traceback": [
      "\u001b[0;31m\u001b[0m",
      "\u001b[0;31mContractLogicError\u001b[0mTraceback (most recent call last)",
      "\u001b[0;32m<ipython-input-65-c7a0ae4d6b1a>\u001b[0m in \u001b[0;36m<module>\u001b[0;34m\u001b[0m\n\u001b[1;32m     33\u001b[0m                 \u001b[0mstr\u001b[0m\u001b[0;34m(\u001b[0m\u001b[0maddress\u001b[0m\u001b[0;34m[\u001b[0m\u001b[0;34m\"box_number\"\u001b[0m\u001b[0;34m]\u001b[0m\u001b[0;34m)\u001b[0m\u001b[0;34m,\u001b[0m\u001b[0;34m\u001b[0m\u001b[0;34m\u001b[0m\u001b[0m\n\u001b[1;32m     34\u001b[0m                 \u001b[0mstr\u001b[0m\u001b[0;34m(\u001b[0m\u001b[0maddress\u001b[0m\u001b[0;34m[\u001b[0m\u001b[0;34m\"EPSG:4326_lat\"\u001b[0m\u001b[0;34m]\u001b[0m\u001b[0;34m)\u001b[0m\u001b[0;34m,\u001b[0m\u001b[0;34m\u001b[0m\u001b[0;34m\u001b[0m\u001b[0m\n\u001b[0;32m---> 35\u001b[0;31m                 \u001b[0mstr\u001b[0m\u001b[0;34m(\u001b[0m\u001b[0maddress\u001b[0m\u001b[0;34m[\u001b[0m\u001b[0;34m\"EPSG:4326_lon\"\u001b[0m\u001b[0;34m]\u001b[0m\u001b[0;34m)\u001b[0m\u001b[0;34m\u001b[0m\u001b[0;34m\u001b[0m\u001b[0m\n\u001b[0m\u001b[1;32m     36\u001b[0m             ).transact())\n\u001b[1;32m     37\u001b[0m \u001b[0;34m\u001b[0m\u001b[0m\n",
      "\u001b[0;32m~/.local/lib/python3.7/site-packages/web3/contract.py\u001b[0m in \u001b[0;36mtransact\u001b[0;34m(self, transaction)\u001b[0m\n\u001b[1;32m   1016\u001b[0m             \u001b[0mself\u001b[0m\u001b[0;34m.\u001b[0m\u001b[0mabi\u001b[0m\u001b[0;34m,\u001b[0m\u001b[0;34m\u001b[0m\u001b[0;34m\u001b[0m\u001b[0m\n\u001b[1;32m   1017\u001b[0m             \u001b[0;34m*\u001b[0m\u001b[0mself\u001b[0m\u001b[0;34m.\u001b[0m\u001b[0margs\u001b[0m\u001b[0;34m,\u001b[0m\u001b[0;34m\u001b[0m\u001b[0;34m\u001b[0m\u001b[0m\n\u001b[0;32m-> 1018\u001b[0;31m             \u001b[0;34m**\u001b[0m\u001b[0mself\u001b[0m\u001b[0;34m.\u001b[0m\u001b[0mkwargs\u001b[0m\u001b[0;34m\u001b[0m\u001b[0;34m\u001b[0m\u001b[0m\n\u001b[0m\u001b[1;32m   1019\u001b[0m         )\n\u001b[1;32m   1020\u001b[0m \u001b[0;34m\u001b[0m\u001b[0m\n",
      "\u001b[0;32m~/.local/lib/python3.7/site-packages/web3/contract.py\u001b[0m in \u001b[0;36mtransact_with_contract_function\u001b[0;34m(address, web3, function_name, transaction, contract_abi, fn_abi, *args, **kwargs)\u001b[0m\n\u001b[1;32m   1612\u001b[0m     )\n\u001b[1;32m   1613\u001b[0m \u001b[0;34m\u001b[0m\u001b[0m\n\u001b[0;32m-> 1614\u001b[0;31m     \u001b[0mtxn_hash\u001b[0m \u001b[0;34m=\u001b[0m \u001b[0mweb3\u001b[0m\u001b[0;34m.\u001b[0m\u001b[0meth\u001b[0m\u001b[0;34m.\u001b[0m\u001b[0msend_transaction\u001b[0m\u001b[0;34m(\u001b[0m\u001b[0mtransact_transaction\u001b[0m\u001b[0;34m)\u001b[0m\u001b[0;34m\u001b[0m\u001b[0;34m\u001b[0m\u001b[0m\n\u001b[0m\u001b[1;32m   1615\u001b[0m     \u001b[0;32mreturn\u001b[0m \u001b[0mtxn_hash\u001b[0m\u001b[0;34m\u001b[0m\u001b[0;34m\u001b[0m\u001b[0m\n\u001b[1;32m   1616\u001b[0m \u001b[0;34m\u001b[0m\u001b[0m\n",
      "\u001b[0;32m~/.local/lib/python3.7/site-packages/web3/eth.py\u001b[0m in \u001b[0;36msend_transaction\u001b[0;34m(self, transaction)\u001b[0m\n\u001b[1;32m    826\u001b[0m \u001b[0;34m\u001b[0m\u001b[0m\n\u001b[1;32m    827\u001b[0m     \u001b[0;32mdef\u001b[0m \u001b[0msend_transaction\u001b[0m\u001b[0;34m(\u001b[0m\u001b[0mself\u001b[0m\u001b[0;34m,\u001b[0m \u001b[0mtransaction\u001b[0m\u001b[0;34m:\u001b[0m \u001b[0mTxParams\u001b[0m\u001b[0;34m)\u001b[0m \u001b[0;34m->\u001b[0m \u001b[0mHexBytes\u001b[0m\u001b[0;34m:\u001b[0m\u001b[0;34m\u001b[0m\u001b[0;34m\u001b[0m\u001b[0m\n\u001b[0;32m--> 828\u001b[0;31m         \u001b[0;32mreturn\u001b[0m \u001b[0mself\u001b[0m\u001b[0;34m.\u001b[0m\u001b[0m_send_transaction\u001b[0m\u001b[0;34m(\u001b[0m\u001b[0mtransaction\u001b[0m\u001b[0;34m)\u001b[0m\u001b[0;34m\u001b[0m\u001b[0;34m\u001b[0m\u001b[0m\n\u001b[0m\u001b[1;32m    829\u001b[0m \u001b[0;34m\u001b[0m\u001b[0m\n\u001b[1;32m    830\u001b[0m     \u001b[0;32mdef\u001b[0m \u001b[0msend_raw_transaction\u001b[0m\u001b[0;34m(\u001b[0m\u001b[0mself\u001b[0m\u001b[0;34m,\u001b[0m \u001b[0mtransaction\u001b[0m\u001b[0;34m:\u001b[0m \u001b[0mUnion\u001b[0m\u001b[0;34m[\u001b[0m\u001b[0mHexStr\u001b[0m\u001b[0;34m,\u001b[0m \u001b[0mbytes\u001b[0m\u001b[0;34m]\u001b[0m\u001b[0;34m)\u001b[0m \u001b[0;34m->\u001b[0m \u001b[0mHexBytes\u001b[0m\u001b[0;34m:\u001b[0m\u001b[0;34m\u001b[0m\u001b[0;34m\u001b[0m\u001b[0m\n",
      "\u001b[0;32m~/.local/lib/python3.7/site-packages/web3/module.py\u001b[0m in \u001b[0;36mcaller\u001b[0;34m(*args, **kwargs)\u001b[0m\n\u001b[1;32m     58\u001b[0m                                              \u001b[0mparams\u001b[0m\u001b[0;34m,\u001b[0m\u001b[0;34m\u001b[0m\u001b[0;34m\u001b[0m\u001b[0m\n\u001b[1;32m     59\u001b[0m                                              \u001b[0merror_formatters\u001b[0m\u001b[0;34m,\u001b[0m\u001b[0;34m\u001b[0m\u001b[0;34m\u001b[0m\u001b[0m\n\u001b[0;32m---> 60\u001b[0;31m                                              null_result_formatters)\n\u001b[0m\u001b[1;32m     61\u001b[0m         \u001b[0;32mreturn\u001b[0m \u001b[0mapply_result_formatters\u001b[0m\u001b[0;34m(\u001b[0m\u001b[0mresult_formatters\u001b[0m\u001b[0;34m,\u001b[0m \u001b[0mresult\u001b[0m\u001b[0;34m)\u001b[0m\u001b[0;34m\u001b[0m\u001b[0;34m\u001b[0m\u001b[0m\n\u001b[1;32m     62\u001b[0m     \u001b[0;32mreturn\u001b[0m \u001b[0mcaller\u001b[0m\u001b[0;34m\u001b[0m\u001b[0;34m\u001b[0m\u001b[0m\n",
      "\u001b[0;32m~/.local/lib/python3.7/site-packages/web3/manager.py\u001b[0m in \u001b[0;36mrequest_blocking\u001b[0;34m(self, method, params, error_formatters, null_result_formatters)\u001b[0m\n\u001b[1;32m    195\u001b[0m         \u001b[0mMake\u001b[0m \u001b[0ma\u001b[0m \u001b[0msynchronous\u001b[0m \u001b[0mrequest\u001b[0m \u001b[0musing\u001b[0m \u001b[0mthe\u001b[0m \u001b[0mprovider\u001b[0m\u001b[0;34m\u001b[0m\u001b[0;34m\u001b[0m\u001b[0m\n\u001b[1;32m    196\u001b[0m         \"\"\"\n\u001b[0;32m--> 197\u001b[0;31m         \u001b[0mresponse\u001b[0m \u001b[0;34m=\u001b[0m \u001b[0mself\u001b[0m\u001b[0;34m.\u001b[0m\u001b[0m_make_request\u001b[0m\u001b[0;34m(\u001b[0m\u001b[0mmethod\u001b[0m\u001b[0;34m,\u001b[0m \u001b[0mparams\u001b[0m\u001b[0;34m)\u001b[0m\u001b[0;34m\u001b[0m\u001b[0;34m\u001b[0m\u001b[0m\n\u001b[0m\u001b[1;32m    198\u001b[0m         return self.formatted_response(response,\n\u001b[1;32m    199\u001b[0m                                        \u001b[0mparams\u001b[0m\u001b[0;34m,\u001b[0m\u001b[0;34m\u001b[0m\u001b[0;34m\u001b[0m\u001b[0m\n",
      "\u001b[0;32m~/.local/lib/python3.7/site-packages/web3/manager.py\u001b[0m in \u001b[0;36m_make_request\u001b[0;34m(self, method, params)\u001b[0m\n\u001b[1;32m    148\u001b[0m             self.middleware_onion)\n\u001b[1;32m    149\u001b[0m         \u001b[0mself\u001b[0m\u001b[0;34m.\u001b[0m\u001b[0mlogger\u001b[0m\u001b[0;34m.\u001b[0m\u001b[0mdebug\u001b[0m\u001b[0;34m(\u001b[0m\u001b[0;34m\"Making request. Method: %s\"\u001b[0m\u001b[0;34m,\u001b[0m \u001b[0mmethod\u001b[0m\u001b[0;34m)\u001b[0m\u001b[0;34m\u001b[0m\u001b[0;34m\u001b[0m\u001b[0m\n\u001b[0;32m--> 150\u001b[0;31m         \u001b[0;32mreturn\u001b[0m \u001b[0mrequest_func\u001b[0m\u001b[0;34m(\u001b[0m\u001b[0mmethod\u001b[0m\u001b[0;34m,\u001b[0m \u001b[0mparams\u001b[0m\u001b[0;34m)\u001b[0m\u001b[0;34m\u001b[0m\u001b[0;34m\u001b[0m\u001b[0m\n\u001b[0m\u001b[1;32m    151\u001b[0m \u001b[0;34m\u001b[0m\u001b[0m\n\u001b[1;32m    152\u001b[0m     async def _coro_make_request(\n",
      "\u001b[0;32m~/.local/lib/python3.7/site-packages/web3/middleware/formatting.py\u001b[0m in \u001b[0;36mmiddleware\u001b[0;34m(method, params)\u001b[0m\n\u001b[1;32m     92\u001b[0m                 \u001b[0mformatter\u001b[0m \u001b[0;34m=\u001b[0m \u001b[0mrequest_formatters\u001b[0m\u001b[0;34m[\u001b[0m\u001b[0mmethod\u001b[0m\u001b[0;34m]\u001b[0m\u001b[0;34m\u001b[0m\u001b[0;34m\u001b[0m\u001b[0m\n\u001b[1;32m     93\u001b[0m                 \u001b[0mparams\u001b[0m \u001b[0;34m=\u001b[0m \u001b[0mformatter\u001b[0m\u001b[0;34m(\u001b[0m\u001b[0mparams\u001b[0m\u001b[0;34m)\u001b[0m\u001b[0;34m\u001b[0m\u001b[0;34m\u001b[0m\u001b[0m\n\u001b[0;32m---> 94\u001b[0;31m             \u001b[0mresponse\u001b[0m \u001b[0;34m=\u001b[0m \u001b[0mmake_request\u001b[0m\u001b[0;34m(\u001b[0m\u001b[0mmethod\u001b[0m\u001b[0;34m,\u001b[0m \u001b[0mparams\u001b[0m\u001b[0;34m)\u001b[0m\u001b[0;34m\u001b[0m\u001b[0;34m\u001b[0m\u001b[0m\n\u001b[0m\u001b[1;32m     95\u001b[0m \u001b[0;34m\u001b[0m\u001b[0m\n\u001b[1;32m     96\u001b[0m             \u001b[0;32mreturn\u001b[0m \u001b[0m_apply_response_formatters\u001b[0m\u001b[0;34m(\u001b[0m\u001b[0mmethod\u001b[0m\u001b[0;34m=\u001b[0m\u001b[0mmethod\u001b[0m\u001b[0;34m,\u001b[0m \u001b[0mresponse\u001b[0m\u001b[0;34m=\u001b[0m\u001b[0mresponse\u001b[0m\u001b[0;34m,\u001b[0m \u001b[0;34m**\u001b[0m\u001b[0mformatters\u001b[0m\u001b[0;34m)\u001b[0m\u001b[0;34m\u001b[0m\u001b[0;34m\u001b[0m\u001b[0m\n",
      "\u001b[0;32m~/.local/lib/python3.7/site-packages/web3/middleware/gas_price_strategy.py\u001b[0m in \u001b[0;36mmiddleware\u001b[0;34m(method, params)\u001b[0m\n\u001b[1;32m     87\u001b[0m                 \u001b[0mtransaction\u001b[0m\u001b[0;34m,\u001b[0m \u001b[0mlatest_block\u001b[0m\u001b[0;34m,\u001b[0m \u001b[0mgenerated_gas_price\u001b[0m\u001b[0;34m\u001b[0m\u001b[0;34m\u001b[0m\u001b[0m\n\u001b[1;32m     88\u001b[0m             )\n\u001b[0;32m---> 89\u001b[0;31m             \u001b[0;32mreturn\u001b[0m \u001b[0mmake_request\u001b[0m\u001b[0;34m(\u001b[0m\u001b[0mmethod\u001b[0m\u001b[0;34m,\u001b[0m \u001b[0;34m(\u001b[0m\u001b[0mtransaction\u001b[0m\u001b[0;34m,\u001b[0m\u001b[0;34m)\u001b[0m\u001b[0;34m)\u001b[0m\u001b[0;34m\u001b[0m\u001b[0;34m\u001b[0m\u001b[0m\n\u001b[0m\u001b[1;32m     90\u001b[0m         \u001b[0;32mreturn\u001b[0m \u001b[0mmake_request\u001b[0m\u001b[0;34m(\u001b[0m\u001b[0mmethod\u001b[0m\u001b[0;34m,\u001b[0m \u001b[0mparams\u001b[0m\u001b[0;34m)\u001b[0m\u001b[0;34m\u001b[0m\u001b[0;34m\u001b[0m\u001b[0m\n\u001b[1;32m     91\u001b[0m \u001b[0;34m\u001b[0m\u001b[0m\n",
      "\u001b[0;32m~/.local/lib/python3.7/site-packages/web3/middleware/formatting.py\u001b[0m in \u001b[0;36mmiddleware\u001b[0;34m(method, params)\u001b[0m\n\u001b[1;32m     92\u001b[0m                 \u001b[0mformatter\u001b[0m \u001b[0;34m=\u001b[0m \u001b[0mrequest_formatters\u001b[0m\u001b[0;34m[\u001b[0m\u001b[0mmethod\u001b[0m\u001b[0;34m]\u001b[0m\u001b[0;34m\u001b[0m\u001b[0;34m\u001b[0m\u001b[0m\n\u001b[1;32m     93\u001b[0m                 \u001b[0mparams\u001b[0m \u001b[0;34m=\u001b[0m \u001b[0mformatter\u001b[0m\u001b[0;34m(\u001b[0m\u001b[0mparams\u001b[0m\u001b[0;34m)\u001b[0m\u001b[0;34m\u001b[0m\u001b[0;34m\u001b[0m\u001b[0m\n\u001b[0;32m---> 94\u001b[0;31m             \u001b[0mresponse\u001b[0m \u001b[0;34m=\u001b[0m \u001b[0mmake_request\u001b[0m\u001b[0;34m(\u001b[0m\u001b[0mmethod\u001b[0m\u001b[0;34m,\u001b[0m \u001b[0mparams\u001b[0m\u001b[0;34m)\u001b[0m\u001b[0;34m\u001b[0m\u001b[0;34m\u001b[0m\u001b[0m\n\u001b[0m\u001b[1;32m     95\u001b[0m \u001b[0;34m\u001b[0m\u001b[0m\n\u001b[1;32m     96\u001b[0m             \u001b[0;32mreturn\u001b[0m \u001b[0m_apply_response_formatters\u001b[0m\u001b[0;34m(\u001b[0m\u001b[0mmethod\u001b[0m\u001b[0;34m=\u001b[0m\u001b[0mmethod\u001b[0m\u001b[0;34m,\u001b[0m \u001b[0mresponse\u001b[0m\u001b[0;34m=\u001b[0m\u001b[0mresponse\u001b[0m\u001b[0;34m,\u001b[0m \u001b[0;34m**\u001b[0m\u001b[0mformatters\u001b[0m\u001b[0;34m)\u001b[0m\u001b[0;34m\u001b[0m\u001b[0;34m\u001b[0m\u001b[0m\n",
      "\u001b[0;32m~/.local/lib/python3.7/site-packages/web3/middleware/attrdict.py\u001b[0m in \u001b[0;36mmiddleware\u001b[0;34m(method, params)\u001b[0m\n\u001b[1;32m     31\u001b[0m     \"\"\"\n\u001b[1;32m     32\u001b[0m     \u001b[0;32mdef\u001b[0m \u001b[0mmiddleware\u001b[0m\u001b[0;34m(\u001b[0m\u001b[0mmethod\u001b[0m\u001b[0;34m:\u001b[0m \u001b[0mRPCEndpoint\u001b[0m\u001b[0;34m,\u001b[0m \u001b[0mparams\u001b[0m\u001b[0;34m:\u001b[0m \u001b[0mAny\u001b[0m\u001b[0;34m)\u001b[0m \u001b[0;34m->\u001b[0m \u001b[0mRPCResponse\u001b[0m\u001b[0;34m:\u001b[0m\u001b[0;34m\u001b[0m\u001b[0;34m\u001b[0m\u001b[0m\n\u001b[0;32m---> 33\u001b[0;31m         \u001b[0mresponse\u001b[0m \u001b[0;34m=\u001b[0m \u001b[0mmake_request\u001b[0m\u001b[0;34m(\u001b[0m\u001b[0mmethod\u001b[0m\u001b[0;34m,\u001b[0m \u001b[0mparams\u001b[0m\u001b[0;34m)\u001b[0m\u001b[0;34m\u001b[0m\u001b[0;34m\u001b[0m\u001b[0m\n\u001b[0m\u001b[1;32m     34\u001b[0m \u001b[0;34m\u001b[0m\u001b[0m\n\u001b[1;32m     35\u001b[0m         \u001b[0;32mif\u001b[0m \u001b[0;34m'result'\u001b[0m \u001b[0;32min\u001b[0m \u001b[0mresponse\u001b[0m\u001b[0;34m:\u001b[0m\u001b[0;34m\u001b[0m\u001b[0;34m\u001b[0m\u001b[0m\n",
      "\u001b[0;32m~/.local/lib/python3.7/site-packages/web3/middleware/formatting.py\u001b[0m in \u001b[0;36mmiddleware\u001b[0;34m(method, params)\u001b[0m\n\u001b[1;32m     92\u001b[0m                 \u001b[0mformatter\u001b[0m \u001b[0;34m=\u001b[0m \u001b[0mrequest_formatters\u001b[0m\u001b[0;34m[\u001b[0m\u001b[0mmethod\u001b[0m\u001b[0;34m]\u001b[0m\u001b[0;34m\u001b[0m\u001b[0;34m\u001b[0m\u001b[0m\n\u001b[1;32m     93\u001b[0m                 \u001b[0mparams\u001b[0m \u001b[0;34m=\u001b[0m \u001b[0mformatter\u001b[0m\u001b[0;34m(\u001b[0m\u001b[0mparams\u001b[0m\u001b[0;34m)\u001b[0m\u001b[0;34m\u001b[0m\u001b[0;34m\u001b[0m\u001b[0m\n\u001b[0;32m---> 94\u001b[0;31m             \u001b[0mresponse\u001b[0m \u001b[0;34m=\u001b[0m \u001b[0mmake_request\u001b[0m\u001b[0;34m(\u001b[0m\u001b[0mmethod\u001b[0m\u001b[0;34m,\u001b[0m \u001b[0mparams\u001b[0m\u001b[0;34m)\u001b[0m\u001b[0;34m\u001b[0m\u001b[0;34m\u001b[0m\u001b[0m\n\u001b[0m\u001b[1;32m     95\u001b[0m \u001b[0;34m\u001b[0m\u001b[0m\n\u001b[1;32m     96\u001b[0m             \u001b[0;32mreturn\u001b[0m \u001b[0m_apply_response_formatters\u001b[0m\u001b[0;34m(\u001b[0m\u001b[0mmethod\u001b[0m\u001b[0;34m=\u001b[0m\u001b[0mmethod\u001b[0m\u001b[0;34m,\u001b[0m \u001b[0mresponse\u001b[0m\u001b[0;34m=\u001b[0m\u001b[0mresponse\u001b[0m\u001b[0;34m,\u001b[0m \u001b[0;34m**\u001b[0m\u001b[0mformatters\u001b[0m\u001b[0;34m)\u001b[0m\u001b[0;34m\u001b[0m\u001b[0;34m\u001b[0m\u001b[0m\n",
      "\u001b[0;32m~/.local/lib/python3.7/site-packages/web3/middleware/formatting.py\u001b[0m in \u001b[0;36mmiddleware\u001b[0;34m(method, params)\u001b[0m\n\u001b[1;32m     92\u001b[0m                 \u001b[0mformatter\u001b[0m \u001b[0;34m=\u001b[0m \u001b[0mrequest_formatters\u001b[0m\u001b[0;34m[\u001b[0m\u001b[0mmethod\u001b[0m\u001b[0;34m]\u001b[0m\u001b[0;34m\u001b[0m\u001b[0;34m\u001b[0m\u001b[0m\n\u001b[1;32m     93\u001b[0m                 \u001b[0mparams\u001b[0m \u001b[0;34m=\u001b[0m \u001b[0mformatter\u001b[0m\u001b[0;34m(\u001b[0m\u001b[0mparams\u001b[0m\u001b[0;34m)\u001b[0m\u001b[0;34m\u001b[0m\u001b[0;34m\u001b[0m\u001b[0m\n\u001b[0;32m---> 94\u001b[0;31m             \u001b[0mresponse\u001b[0m \u001b[0;34m=\u001b[0m \u001b[0mmake_request\u001b[0m\u001b[0;34m(\u001b[0m\u001b[0mmethod\u001b[0m\u001b[0;34m,\u001b[0m \u001b[0mparams\u001b[0m\u001b[0;34m)\u001b[0m\u001b[0;34m\u001b[0m\u001b[0;34m\u001b[0m\u001b[0m\n\u001b[0m\u001b[1;32m     95\u001b[0m \u001b[0;34m\u001b[0m\u001b[0m\n\u001b[1;32m     96\u001b[0m             \u001b[0;32mreturn\u001b[0m \u001b[0m_apply_response_formatters\u001b[0m\u001b[0;34m(\u001b[0m\u001b[0mmethod\u001b[0m\u001b[0;34m=\u001b[0m\u001b[0mmethod\u001b[0m\u001b[0;34m,\u001b[0m \u001b[0mresponse\u001b[0m\u001b[0;34m=\u001b[0m\u001b[0mresponse\u001b[0m\u001b[0;34m,\u001b[0m \u001b[0;34m**\u001b[0m\u001b[0mformatters\u001b[0m\u001b[0;34m)\u001b[0m\u001b[0;34m\u001b[0m\u001b[0;34m\u001b[0m\u001b[0m\n",
      "\u001b[0;32m~/.local/lib/python3.7/site-packages/web3/middleware/formatting.py\u001b[0m in \u001b[0;36mmiddleware\u001b[0;34m(method, params)\u001b[0m\n\u001b[1;32m     92\u001b[0m                 \u001b[0mformatter\u001b[0m \u001b[0;34m=\u001b[0m \u001b[0mrequest_formatters\u001b[0m\u001b[0;34m[\u001b[0m\u001b[0mmethod\u001b[0m\u001b[0;34m]\u001b[0m\u001b[0;34m\u001b[0m\u001b[0;34m\u001b[0m\u001b[0m\n\u001b[1;32m     93\u001b[0m                 \u001b[0mparams\u001b[0m \u001b[0;34m=\u001b[0m \u001b[0mformatter\u001b[0m\u001b[0;34m(\u001b[0m\u001b[0mparams\u001b[0m\u001b[0;34m)\u001b[0m\u001b[0;34m\u001b[0m\u001b[0;34m\u001b[0m\u001b[0m\n\u001b[0;32m---> 94\u001b[0;31m             \u001b[0mresponse\u001b[0m \u001b[0;34m=\u001b[0m \u001b[0mmake_request\u001b[0m\u001b[0;34m(\u001b[0m\u001b[0mmethod\u001b[0m\u001b[0;34m,\u001b[0m \u001b[0mparams\u001b[0m\u001b[0;34m)\u001b[0m\u001b[0;34m\u001b[0m\u001b[0;34m\u001b[0m\u001b[0m\n\u001b[0m\u001b[1;32m     95\u001b[0m \u001b[0;34m\u001b[0m\u001b[0m\n\u001b[1;32m     96\u001b[0m             \u001b[0;32mreturn\u001b[0m \u001b[0m_apply_response_formatters\u001b[0m\u001b[0;34m(\u001b[0m\u001b[0mmethod\u001b[0m\u001b[0;34m=\u001b[0m\u001b[0mmethod\u001b[0m\u001b[0;34m,\u001b[0m \u001b[0mresponse\u001b[0m\u001b[0;34m=\u001b[0m\u001b[0mresponse\u001b[0m\u001b[0;34m,\u001b[0m \u001b[0;34m**\u001b[0m\u001b[0mformatters\u001b[0m\u001b[0;34m)\u001b[0m\u001b[0;34m\u001b[0m\u001b[0;34m\u001b[0m\u001b[0m\n",
      "\u001b[0;32m~/.local/lib/python3.7/site-packages/web3/middleware/buffered_gas_estimate.py\u001b[0m in \u001b[0;36mmiddleware\u001b[0;34m(method, params)\u001b[0m\n\u001b[1;32m     35\u001b[0m                     \u001b[0mtransaction\u001b[0m\u001b[0;34m,\u001b[0m\u001b[0;34m\u001b[0m\u001b[0;34m\u001b[0m\u001b[0m\n\u001b[1;32m     36\u001b[0m                     \u001b[0;34m'gas'\u001b[0m\u001b[0;34m,\u001b[0m\u001b[0;34m\u001b[0m\u001b[0;34m\u001b[0m\u001b[0m\n\u001b[0;32m---> 37\u001b[0;31m                     \u001b[0mhex\u001b[0m\u001b[0;34m(\u001b[0m\u001b[0mget_buffered_gas_estimate\u001b[0m\u001b[0;34m(\u001b[0m\u001b[0mweb3\u001b[0m\u001b[0;34m,\u001b[0m \u001b[0mtransaction\u001b[0m\u001b[0;34m)\u001b[0m\u001b[0;34m)\u001b[0m\u001b[0;34m,\u001b[0m\u001b[0;34m\u001b[0m\u001b[0;34m\u001b[0m\u001b[0m\n\u001b[0m\u001b[1;32m     38\u001b[0m                 )\n\u001b[1;32m     39\u001b[0m                 \u001b[0;32mreturn\u001b[0m \u001b[0mmake_request\u001b[0m\u001b[0;34m(\u001b[0m\u001b[0mmethod\u001b[0m\u001b[0;34m,\u001b[0m \u001b[0;34m[\u001b[0m\u001b[0mtransaction\u001b[0m\u001b[0;34m]\u001b[0m\u001b[0;34m)\u001b[0m\u001b[0;34m\u001b[0m\u001b[0;34m\u001b[0m\u001b[0m\n",
      "\u001b[0;32m~/.local/lib/python3.7/site-packages/web3/_utils/transactions.py\u001b[0m in \u001b[0;36mget_buffered_gas_estimate\u001b[0;34m(web3, transaction, gas_buffer)\u001b[0m\n\u001b[1;32m    132\u001b[0m     \u001b[0mgas_estimate_transaction\u001b[0m \u001b[0;34m=\u001b[0m \u001b[0mcast\u001b[0m\u001b[0;34m(\u001b[0m\u001b[0mTxParams\u001b[0m\u001b[0;34m,\u001b[0m \u001b[0mdict\u001b[0m\u001b[0;34m(\u001b[0m\u001b[0;34m**\u001b[0m\u001b[0mtransaction\u001b[0m\u001b[0;34m)\u001b[0m\u001b[0;34m)\u001b[0m\u001b[0;34m\u001b[0m\u001b[0;34m\u001b[0m\u001b[0m\n\u001b[1;32m    133\u001b[0m \u001b[0;34m\u001b[0m\u001b[0m\n\u001b[0;32m--> 134\u001b[0;31m     \u001b[0mgas_estimate\u001b[0m \u001b[0;34m=\u001b[0m \u001b[0mweb3\u001b[0m\u001b[0;34m.\u001b[0m\u001b[0meth\u001b[0m\u001b[0;34m.\u001b[0m\u001b[0mestimate_gas\u001b[0m\u001b[0;34m(\u001b[0m\u001b[0mgas_estimate_transaction\u001b[0m\u001b[0;34m)\u001b[0m\u001b[0;34m\u001b[0m\u001b[0;34m\u001b[0m\u001b[0m\n\u001b[0m\u001b[1;32m    135\u001b[0m \u001b[0;34m\u001b[0m\u001b[0m\n\u001b[1;32m    136\u001b[0m     \u001b[0mgas_limit\u001b[0m \u001b[0;34m=\u001b[0m \u001b[0mget_block_gas_limit\u001b[0m\u001b[0;34m(\u001b[0m\u001b[0mweb3\u001b[0m\u001b[0;34m)\u001b[0m\u001b[0;34m\u001b[0m\u001b[0;34m\u001b[0m\u001b[0m\n",
      "\u001b[0;32m~/.local/lib/python3.7/site-packages/web3/eth.py\u001b[0m in \u001b[0;36mestimate_gas\u001b[0;34m(self, transaction, block_identifier)\u001b[0m\n\u001b[1;32m    866\u001b[0m         \u001b[0mblock_identifier\u001b[0m\u001b[0;34m:\u001b[0m \u001b[0mOptional\u001b[0m\u001b[0;34m[\u001b[0m\u001b[0mBlockIdentifier\u001b[0m\u001b[0;34m]\u001b[0m \u001b[0;34m=\u001b[0m \u001b[0;32mNone\u001b[0m\u001b[0;34m\u001b[0m\u001b[0;34m\u001b[0m\u001b[0m\n\u001b[1;32m    867\u001b[0m     ) -> Wei:\n\u001b[0;32m--> 868\u001b[0;31m         \u001b[0;32mreturn\u001b[0m \u001b[0mself\u001b[0m\u001b[0;34m.\u001b[0m\u001b[0m_estimate_gas\u001b[0m\u001b[0;34m(\u001b[0m\u001b[0mtransaction\u001b[0m\u001b[0;34m,\u001b[0m \u001b[0mblock_identifier\u001b[0m\u001b[0;34m)\u001b[0m\u001b[0;34m\u001b[0m\u001b[0;34m\u001b[0m\u001b[0m\n\u001b[0m\u001b[1;32m    869\u001b[0m \u001b[0;34m\u001b[0m\u001b[0m\n\u001b[1;32m    870\u001b[0m     def fee_history(\n",
      "\u001b[0;32m~/.local/lib/python3.7/site-packages/web3/module.py\u001b[0m in \u001b[0;36mcaller\u001b[0;34m(*args, **kwargs)\u001b[0m\n\u001b[1;32m     58\u001b[0m                                              \u001b[0mparams\u001b[0m\u001b[0;34m,\u001b[0m\u001b[0;34m\u001b[0m\u001b[0;34m\u001b[0m\u001b[0m\n\u001b[1;32m     59\u001b[0m                                              \u001b[0merror_formatters\u001b[0m\u001b[0;34m,\u001b[0m\u001b[0;34m\u001b[0m\u001b[0;34m\u001b[0m\u001b[0m\n\u001b[0;32m---> 60\u001b[0;31m                                              null_result_formatters)\n\u001b[0m\u001b[1;32m     61\u001b[0m         \u001b[0;32mreturn\u001b[0m \u001b[0mapply_result_formatters\u001b[0m\u001b[0;34m(\u001b[0m\u001b[0mresult_formatters\u001b[0m\u001b[0;34m,\u001b[0m \u001b[0mresult\u001b[0m\u001b[0;34m)\u001b[0m\u001b[0;34m\u001b[0m\u001b[0;34m\u001b[0m\u001b[0m\n\u001b[1;32m     62\u001b[0m     \u001b[0;32mreturn\u001b[0m \u001b[0mcaller\u001b[0m\u001b[0;34m\u001b[0m\u001b[0;34m\u001b[0m\u001b[0m\n",
      "\u001b[0;32m~/.local/lib/python3.7/site-packages/web3/manager.py\u001b[0m in \u001b[0;36mrequest_blocking\u001b[0;34m(self, method, params, error_formatters, null_result_formatters)\u001b[0m\n\u001b[1;32m    199\u001b[0m                                        \u001b[0mparams\u001b[0m\u001b[0;34m,\u001b[0m\u001b[0;34m\u001b[0m\u001b[0;34m\u001b[0m\u001b[0m\n\u001b[1;32m    200\u001b[0m                                        \u001b[0merror_formatters\u001b[0m\u001b[0;34m,\u001b[0m\u001b[0;34m\u001b[0m\u001b[0;34m\u001b[0m\u001b[0m\n\u001b[0;32m--> 201\u001b[0;31m                                        null_result_formatters)\n\u001b[0m\u001b[1;32m    202\u001b[0m \u001b[0;34m\u001b[0m\u001b[0m\n\u001b[1;32m    203\u001b[0m     async def coro_request(\n",
      "\u001b[0;32m~/.local/lib/python3.7/site-packages/web3/manager.py\u001b[0m in \u001b[0;36mformatted_response\u001b[0;34m(response, params, error_formatters, null_result_formatters)\u001b[0m\n\u001b[1;32m    168\u001b[0m     ) -> Any:\n\u001b[1;32m    169\u001b[0m         \u001b[0;32mif\u001b[0m \u001b[0;34m\"error\"\u001b[0m \u001b[0;32min\u001b[0m \u001b[0mresponse\u001b[0m\u001b[0;34m:\u001b[0m\u001b[0;34m\u001b[0m\u001b[0;34m\u001b[0m\u001b[0m\n\u001b[0;32m--> 170\u001b[0;31m             \u001b[0mapply_error_formatters\u001b[0m\u001b[0;34m(\u001b[0m\u001b[0merror_formatters\u001b[0m\u001b[0;34m,\u001b[0m \u001b[0mresponse\u001b[0m\u001b[0;34m)\u001b[0m\u001b[0;34m\u001b[0m\u001b[0;34m\u001b[0m\u001b[0m\n\u001b[0m\u001b[1;32m    171\u001b[0m             \u001b[0;32mraise\u001b[0m \u001b[0mValueError\u001b[0m\u001b[0;34m(\u001b[0m\u001b[0mresponse\u001b[0m\u001b[0;34m[\u001b[0m\u001b[0;34m\"error\"\u001b[0m\u001b[0;34m]\u001b[0m\u001b[0;34m)\u001b[0m\u001b[0;34m\u001b[0m\u001b[0;34m\u001b[0m\u001b[0m\n\u001b[1;32m    172\u001b[0m         \u001b[0;31m# NULL_RESPONSES includes None, so return False here as the default\u001b[0m\u001b[0;34m\u001b[0m\u001b[0;34m\u001b[0m\u001b[0;34m\u001b[0m\u001b[0m\n",
      "\u001b[0;32m~/.local/lib/python3.7/site-packages/web3/manager.py\u001b[0m in \u001b[0;36mapply_error_formatters\u001b[0;34m(error_formatters, response)\u001b[0m\n\u001b[1;32m     68\u001b[0m ) -> RPCResponse:\n\u001b[1;32m     69\u001b[0m     \u001b[0;32mif\u001b[0m \u001b[0merror_formatters\u001b[0m\u001b[0;34m:\u001b[0m\u001b[0;34m\u001b[0m\u001b[0;34m\u001b[0m\u001b[0m\n\u001b[0;32m---> 70\u001b[0;31m         \u001b[0mformatted_resp\u001b[0m \u001b[0;34m=\u001b[0m \u001b[0mpipe\u001b[0m\u001b[0;34m(\u001b[0m\u001b[0mresponse\u001b[0m\u001b[0;34m,\u001b[0m \u001b[0merror_formatters\u001b[0m\u001b[0;34m)\u001b[0m\u001b[0;34m\u001b[0m\u001b[0;34m\u001b[0m\u001b[0m\n\u001b[0m\u001b[1;32m     71\u001b[0m         \u001b[0;32mreturn\u001b[0m \u001b[0mformatted_resp\u001b[0m\u001b[0;34m\u001b[0m\u001b[0;34m\u001b[0m\u001b[0m\n\u001b[1;32m     72\u001b[0m     \u001b[0;32melse\u001b[0m\u001b[0;34m:\u001b[0m\u001b[0;34m\u001b[0m\u001b[0;34m\u001b[0m\u001b[0m\n",
      "\u001b[0;32m~/.local/lib/python3.7/site-packages/cytoolz/functoolz.pyx\u001b[0m in \u001b[0;36mcytoolz.functoolz.pipe\u001b[0;34m()\u001b[0m\n",
      "\u001b[0;32m~/.local/lib/python3.7/site-packages/cytoolz/functoolz.pyx\u001b[0m in \u001b[0;36mcytoolz.functoolz.c_pipe\u001b[0;34m()\u001b[0m\n",
      "\u001b[0;32m~/.local/lib/python3.7/site-packages/web3/_utils/method_formatters.py\u001b[0m in \u001b[0;36mraise_solidity_error_on_revert\u001b[0;34m(response)\u001b[0m\n\u001b[1;32m    559\u001b[0m     \u001b[0;31m# Ganache case:\u001b[0m\u001b[0;34m\u001b[0m\u001b[0;34m\u001b[0m\u001b[0;34m\u001b[0m\u001b[0m\n\u001b[1;32m    560\u001b[0m     \u001b[0;32mif\u001b[0m \u001b[0misinstance\u001b[0m\u001b[0;34m(\u001b[0m\u001b[0mdata\u001b[0m\u001b[0;34m,\u001b[0m \u001b[0mdict\u001b[0m\u001b[0;34m)\u001b[0m \u001b[0;32mand\u001b[0m \u001b[0mresponse\u001b[0m\u001b[0;34m[\u001b[0m\u001b[0;34m'error'\u001b[0m\u001b[0;34m]\u001b[0m\u001b[0;34m.\u001b[0m\u001b[0mget\u001b[0m\u001b[0;34m(\u001b[0m\u001b[0;34m'message'\u001b[0m\u001b[0;34m)\u001b[0m\u001b[0;34m:\u001b[0m\u001b[0;34m\u001b[0m\u001b[0;34m\u001b[0m\u001b[0m\n\u001b[0;32m--> 561\u001b[0;31m         \u001b[0;32mraise\u001b[0m \u001b[0mContractLogicError\u001b[0m\u001b[0;34m(\u001b[0m\u001b[0;34mf'execution reverted: {response[\"error\"][\"message\"]}'\u001b[0m\u001b[0;34m)\u001b[0m\u001b[0;34m\u001b[0m\u001b[0;34m\u001b[0m\u001b[0m\n\u001b[0m\u001b[1;32m    562\u001b[0m \u001b[0;34m\u001b[0m\u001b[0m\n\u001b[1;32m    563\u001b[0m     \u001b[0;31m# Parity/OpenEthereum case:\u001b[0m\u001b[0;34m\u001b[0m\u001b[0;34m\u001b[0m\u001b[0;34m\u001b[0m\u001b[0m\n",
      "\u001b[0;31mContractLogicError\u001b[0m: execution reverted: VM Exception while processing transaction: revert Address already exist."
     ]
    }
   ],
   "source": [
    "# Add addresses\n",
    "import csv\n",
    "with open('/home/glue_user/data/bru.csv') as csvfile:\n",
    "    reader = csv.DictReader(csvfile)\n",
    "    for address in reader:\n",
    "        tx_hashes = []\n",
    "        if address[\"streetname_de\"] != '':\n",
    "            # A DE version of the address is available - Add it to ledger\n",
    "            tx_hashes.append(deployed_addresses_contract.functions.createAddress(\n",
    "                address[\"streetname_de\"],\n",
    "                str(address[\"postcode\"]),\n",
    "                str(address[\"house_number\"]),\n",
    "                str(address[\"box_number\"]),\n",
    "                str(address[\"EPSG:4326_lat\"]),\n",
    "                str(address[\"EPSG:4326_lon\"])\n",
    "            ).transact())\n",
    "        if address[\"streetname_nl\"] != '':\n",
    "            # A NL version of the address is available - Add it to ledger\n",
    "            tx_hashes.append(deployed_addresses_contract.functions.createAddress(\n",
    "                address[\"streetname_nl\"],\n",
    "                str(address[\"postcode\"]),\n",
    "                str(address[\"house_number\"]),\n",
    "                str(address[\"box_number\"]),\n",
    "                str(address[\"EPSG:4326_lat\"]),\n",
    "                str(address[\"EPSG:4326_lon\"])\n",
    "            ).transact())\n",
    "        if address[\"streetname_fr\"] != '':\n",
    "            # A FR version of the address is available - Add it to ledger\n",
    "            tx_hashes.append(deployed_addresses_contract.functions.createAddress(\n",
    "                address[\"streetname_fr\"],\n",
    "                str(address[\"postcode\"]),\n",
    "                str(address[\"house_number\"]),\n",
    "                str(address[\"box_number\"]),\n",
    "                str(address[\"EPSG:4326_lat\"]),\n",
    "                str(address[\"EPSG:4326_lon\"])\n",
    "            ).transact())\n",
    "\n",
    "    # Check transaction are complete\n",
    "    address_ids = []\n",
    "    for tx in tx_hashes:\n",
    "        tx_r = w3.eth.wait_for_transaction_receipt(tx)\n",
    "        address_ids.append(tx_r[\"logs\"][0][\"topics\"][1])\n",
    "    print(len(address_ids)) \n",
    "    print(address_ids[0])"
   ]
  },
  {
   "cell_type": "code",
   "execution_count": 66,
   "id": "164f9bb3-654a-400a-b5f5-433bed80626b",
   "metadata": {},
   "outputs": [
    {
     "data": {
      "text/plain": [
       "['1030',\n",
       " '1180',\n",
       " '1200',\n",
       " '1080',\n",
       " '1000',\n",
       " '1170',\n",
       " '1081',\n",
       " '1060',\n",
       " '1070',\n",
       " '1190',\n",
       " '1050',\n",
       " '1160',\n",
       " '1150',\n",
       " '1040',\n",
       " '1210',\n",
       " '1130',\n",
       " '1140',\n",
       " '1020',\n",
       " '1090',\n",
       " '1083',\n",
       " '1120',\n",
       " '1082']"
      ]
     },
     "execution_count": 66,
     "metadata": {},
     "output_type": "execute_result"
    }
   ],
   "source": [
    "deployed_addresses_contract.functions.listPostcodes().call()"
   ]
  },
  {
   "cell_type": "code",
   "execution_count": 70,
   "id": "be806dee-292d-4ee9-b1fa-c676901ab144",
   "metadata": {},
   "outputs": [
    {
     "data": {
      "text/plain": [
       "[b'b2\\x98\\xb4\\x0e?\\xa3\\xe9\\x8ed\\xec%R4A\\x0b/\\x9b\\xa4\\xe5`\\x04\\xa5\\xa9%?Nte\\xb8J\\xb1',\n",
       " b\"\\x16{)\\x8cu\\xf8'\\xb9\\xb5L\\xdb\\xe5J\\xd1B\\xe6\\xfb}\\xdebS\\xd6\\xfe\\xc5s\\xfe=\\xe0?k\\x9f\\x10\",\n",
       " b'\\x00\\xfc\\x17\\x0e\\xc6\\xc6\\xc1x\\xc6\\x1cy\\xcc\\xca\\xe9\\xd7\\x7fq\\x88\\x95E\\x8a\\x80\\xb4\\xcaa\\x06^\\x033\\x13\\x82\\xe2',\n",
       " b'\\x97\\x12\\xca\\xc3\\xa9\\xaf\\x11\\xb3M\\x06\\x9ee\\x0b\\x850\\xe3\\xeb\\n\\x89#\\x90\\xae\\xb5\\xad\\x15\\xdc\\x88\\x99\\xaf\\xf0\\x06R',\n",
       " b'/\\x83\\xf8\\x12\\xcf\\x81\\xc14Q\\xb4bUg\\x1fe\\xd0\\x19\\xc5Dzb\\x99#8\\xbb\\xd5\\x8c1A\\xe1:\\xd6',\n",
       " b'\\x11\\xcdq\\x1d\\xa4\\xf3\\xbd\\xde\\xe5\\xf6\\xe4\\xf7\\xc60\\x88\\xc0\\xbd\\xddF\\x13\\xf2{\\xa6c\\xb7\\xddg\\xbdo\\x1c\\xacG',\n",
       " b'\\xd6\\x82O\\x07\\xf14H/e\\xf3\\xdb\\x91\\x92(\\xf5\\xe2\\x1eF;Y\\x9221\\xa4e$av.+\\x84\\xb9',\n",
       " b'\\xfd ;\\xb8\\x18\\x81\\xf1\\x87\\xe8H7\\xff\\xf3Z\\x8f\\x9dDEa\\xd1\\xb7\\x0c,1\\x92F\\x86\\x01\\x17p\\x9eH',\n",
       " b'\\x00\\x81\\xc8\\rY\\x0fj3J\\xa7\\xb9\\x99\\xd9\\xed\\x81/J\\xe3\\xff\\x86H\\xa5T\\xd9\\x8d8\\x0fP\\x87\\x03o\\xea',\n",
       " b\"?\\xc73\\xd3\\x0c\\x8e\\x1a\\xe3\\x8d\\xb3'\\x02\\xf7\\xf0X\\xbd\\x17\\xc1O\\xc6\\xd7\\xe14\\x19 \\xc3@\\x99s\\x9c\\xe9F\",\n",
       " b'\\x85\\n\\xbd\\xc9\\xccdQ\\xe9\\n5\\x82S\\x1b\\xc4\\x19K\\xe6\\x12\\xfa\\xc8|\\xf3\\xbaQD\\xfa\\tZ\\x9c\\x9a7\\xf8',\n",
       " b'N\\xba\\x1d\\xedD\\x06\\x90\\x83\\x92\\xd9\\xd7\\x14\\xb13\\x86\\xda\\x1f\\xca\\x05\"\\xb9\\x95\\xfet\\xbe\\x9a\\x89^\\x80\\x14\\xf0\\xa8',\n",
       " b'\\xbd\\xbb\\x91\\xf6Ei\\x19J\\x0e\\xbc\\xb9\\x1d\\xe9\\xbd\\x9f$}\\x85\\xab\\xdbBr\\x9a\\xf8\\x97\\xa9A\\x82Q\\x11\\x1e\\x11',\n",
       " b\"o\\x8bA\\xa1H\\t'\\x90\\xf0[\\x1c_\\xc1\\n\\x17b\\x96gt\\xe3\\xde\\xec\\xe2'\\n+^B*\\x95\\xf8Z\",\n",
       " b'\\xf7\\xb0\\xfcuj\\x0f*\"\\xe7Y\\xd6T\\x11\\xa5\\xb7\\xd4\\xec\\xdc\\x07\\x97f\\xbbQ\\x14\\xa0R\\x01\\xef\\xa4\\xc5\\x16~',\n",
       " b'\\xcaI\\xb1Is.\\x03\\x9a\\x9e\\xf7$!nX\\xe1u\\xc8\\xfey\\xb1!\\xa7\\xf8j4\\xd0\\xddr\\x81\\xa3\\xee\\x82',\n",
       " b'\\x9f\\xf4!\\xbbb\\x04\\x13\\xb7E\\xda\\xcb\\xac\\r\\xa3\\xd3\\x1ez^\\xad7\\xb3\\xdf\\xee\\xd2\\x9a\\xe1o\\xa8\"s\\xd1}',\n",
       " b'\\xa1\\xbf$H\\xf1\\x87\\xbd\\xea\\xf4[\\x94L\\xe6F\\xcb\\x11&\\x9e\\xdd.\\xd7\\x83\\xe0\\xaf-\\x92\\xc9\\x19^\\xb5\\x18\\xc1',\n",
       " b'\\xf2\\xcfg\\xda\\x15\\r\\xb9\\xbb\\x8cb\\xaa\\n\\x9eV=W\\x96\\x8c\\xe8\\xce\\x06(\\xee\\xd4/c\\x9e\\xa6\\x93\\xda\\xcaj',\n",
       " b\"4\\x92}S\\x080\\xc9\\xc5\\xad!\\x92\\xbd\\xe8\\x9aW\\xa3\\xd8Q\\x07G\\xea\\xf0\\xd6\\xc9\\xa6'\\xac\\xe8<\\xb3M)\",\n",
       " b'\\xac\\xd7\\xe5AO1_\\xa5\\xa3g\\x8c\\x8f\"\\x9b<\\xc1\\xd1X1w\\xb9%\\xcfn\\xa5\\x16\\xcfy\\x896m$',\n",
       " b'\\xc2\\xf2pc\\xe5\\xc6\\xed\\x10\\x9es\\xe3Q\\n\\x0bocNe\\xf6}\\xe1\\xf2B*\\xdc\\xaa\\xee\\xcb\\xef\\xe9\\xbe\\xa9',\n",
       " b'\\x1av\\x10\\xeb\\xd3\\x9d\\xc7q\\xaa\\xe3@,mg1\\xd1\\xae\\x7fG\\x03\\x88x\\x03Mw\\xcd\\x0c\\n\\x16\\tU\\x90',\n",
       " b'hS\\xf5\\x96\\x1eA\\xd3\\xdb\\xeb\\x1c\\xb8\\xf1\\xcfI\\\\\\xd1^\\x05\\x93\\x07%-;\\xd9e\\xbb\\xcb])\\xb6\\xa80',\n",
       " b'\\xe5\\x04\\xe2\\xac\\x04N\\x91\\xb3^\\xfd\\xc1\\xd0W\\xbeV\\x11\\x85\\r\\x06\\x03*8y\\xcah\\xf8$\\x0cr\\x1d\\xc6f',\n",
       " b'\\xfbm\\xf6\\xf3\\x9e\\x03\\xa0\\xa1\\xfb\\xfaX\\x91\\xe6G\\xaa\\xb9\\xafq|\\xe5\\x08@\\x9b\\xd9J\\xe5\\x8fQ\\xf6\\\\<\\x91',\n",
       " b\"\\x18\\xf8\\xb1W\\x16\\xa3\\xa2\\xa32\\xa9\\x87\\xc4\\xffS\\xac\\xb4\\xac:\\x1a\\x8a\\xd8\\x9a\\xeb\\xb7-g\\xca'5\\xed\\xc0J\",\n",
       " b'\\x90q<\\x8e\\x97\\x1c\\xb6/sZs\\xa6\\x1a\\xb7\\xcd\\x0e/\\x10\\x9a\\x02\\xf7GB\\x80\\x97^-\\xd0P\\x98bl',\n",
       " b'\\xfa!m\\xd2\\x08Q\\xa8\\x07p\\x04\\xb04\\x1b\\x03G\\xceK\\xbb\\x02\\x127\\xd8{Ui\\xf0\\x8e\\x1bm\\xf3\\x8d\\x02',\n",
       " b'u\\x179\\xf3\\x1a\"\\x96\\xc79%\\x05\\x02C\\xf8O9\\xf2o9\\x18\\x1acMH\\xe4\\x85)4\\xeb\\xeb\\xa8\\x9a',\n",
       " b'f\\xe6\"\\x7f\\xc3\\xf1\\x8d\\x01\\xaf&%l(M|\\\\\\xf8B~\\xb9\\xc0b\\x88SG\\xcf\\xb2\\xaa\\xb0m\\x9c\\x88',\n",
       " b'\\xf3\\xb4{\\xf59\\x8b\\x9dR\\xa9\\x96`/y\\xa1[\\xbe\\x9dy\\xfcw\\xa4D\\x89\\xce\\xfb\\x93\\x89m^\\x80Z\\x8c',\n",
       " b'\\xd5\\xf2\\x00g\\xdd\\x00w\\xbf\\x10=M\\x97\\xb8u\\\\\\x11|\\xb8\\xa3\\xf66,S\\xca)\\x01\\xef@\"\\x87\\xfe\\x1c',\n",
       " b'w\\x9f\\x83R;\\x03T\\xb0\\x1dL\\xba]\\x9e\\x19\\xa0\\x9bk\\xfc\\xe4\\xda\\xb6\\x8bj\\xfd(\\xf8\\x18\\xf0\\x96\\x15or',\n",
       " b'\\x86\\x84y;yo5\\xaeu\\x9e\\xf3\\xe8\\xcc\\xdfUH\\x80~-g\\xd5Q\\xc8\\x9a\\xd9\\xa7N\\xcaY\\x1d|L',\n",
       " b'\\xdd\\xe9;_4\\xd8pK\\x9e\\xcd\\x9b=l\\xda\\xe5<3d\\xd4\\xeci~\\xef\\x16c\\xfe\\x82\\xb6\\xb5\\xce,\\x8c',\n",
       " b\"YJ\\x0b\\xf3=`\\xe7E\\x11\\xe0\\x97\\xf0<\\x16e\\x87\\xf5\\xbc\\xf3Y\\xba\\xe7\\xa1\\x01&n\\x02'\\x85\\\\\\xe5\\xff\",\n",
       " b\"3~\\xf2\\xeb[\\xb5'\\xe8QE\\xf5u\\x1a\\xe5i\\xf6\\xb09\\xedP\\xa6\\xbb\\xec\\xd2\\x86\\xc7\\x93\\xbf\\xd9O\\x85\\xbf\"]"
      ]
     },
     "execution_count": 70,
     "metadata": {},
     "output_type": "execute_result"
    }
   ],
   "source": [
    "deployed_addresses_contract.functions.listAddressIdsByPostcode(\"1060\").call()"
   ]
  },
  {
   "cell_type": "code",
   "execution_count": 68,
   "id": "4bcab0f5-eb63-4c12-9520-49bee105d915",
   "metadata": {},
   "outputs": [
    {
     "data": {
      "text/plain": [
       "(b'\\x9d$\\xcek\\xc91\\x11\\x8f\\xeb\\x06]\\x11u<-\\xed\\xef\\x16p\\x82\\xef\\x15!e\\x19o=\\xf4\\xe1\\xbei\\xb1',\n",
       " 'Pannenhuisstraat',\n",
       " '1090',\n",
       " '29',\n",
       " '',\n",
       " '50.87556',\n",
       " '4.33857')"
      ]
     },
     "execution_count": 68,
     "metadata": {},
     "output_type": "execute_result"
    }
   ],
   "source": [
    "deployed_addresses_contract.functions.getAddress(w3.toHex(b'\\x9d$\\xcek\\xc91\\x11\\x8f\\xeb\\x06]\\x11u<-\\xed\\xef\\x16p\\x82\\xef\\x15!e\\x19o=\\xf4\\xe1\\xbei\\xb1')).call()"
   ]
  },
  {
   "cell_type": "code",
   "execution_count": 54,
   "id": "dc3109de-162a-4554-8a45-4db625cde10e",
   "metadata": {},
   "outputs": [
    {
     "data": {
      "text/plain": [
       "(b'_\\x0b\\xc4\\x89\\x13\\xd2n\\xc4X2\\xb1\\xb4\\xa2\\x06 \\xc4\\xb5\\xb8\\xee\\x0e\\x88x\\xfd\\xe6\\xd2\\xa4d\\xe9BL\\x17c',\n",
       " 'Rue Général Gratry',\n",
       " '1030',\n",
       " '49',\n",
       " '',\n",
       " '50.84613',\n",
       " '4.39996')"
      ]
     },
     "execution_count": 54,
     "metadata": {},
     "output_type": "execute_result"
    }
   ],
   "source": [
    "deployed_addresses_contract.functions.getAddress(w3.toHex(hexstr='0x5f0bc48913d26ec45832b1b4a20620c4b5b8ee0e8878fde6d2a464e9424c1763')).call()"
   ]
  },
  {
   "cell_type": "code",
   "execution_count": 9,
   "id": "0ad06775-469c-4d77-9d09-5a9b77002f3e",
   "metadata": {},
   "outputs": [
    {
     "name": "stdout",
     "output_type": "stream",
     "text": [
      "Starting Spark application\n"
     ]
    },
    {
     "data": {
      "text/html": [
       "<table>\n",
       "<tr><th>ID</th><th>YARN Application ID</th><th>Kind</th><th>State</th><th>Spark UI</th><th>Driver log</th><th>User</th><th>Current session?</th></tr><tr><td>1</td><td>None</td><td>pyspark</td><td>idle</td><td></td><td></td><td>None</td><td>✔</td></tr></table>"
      ],
      "text/plain": [
       "<IPython.core.display.HTML object>"
      ]
     },
     "metadata": {},
     "output_type": "display_data"
    },
    {
     "data": {
      "application/vnd.jupyter.widget-view+json": {
       "model_id": "",
       "version_major": 2,
       "version_minor": 0
      },
      "text/plain": [
       "FloatProgress(value=0.0, bar_style='info', description='Progress:', layout=Layout(height='25px', width='50%'),…"
      ]
     },
     "metadata": {},
     "output_type": "display_data"
    },
    {
     "name": "stdout",
     "output_type": "stream",
     "text": [
      "SparkSession available as 'spark'.\n"
     ]
    },
    {
     "data": {
      "application/vnd.jupyter.widget-view+json": {
       "model_id": "",
       "version_major": 2,
       "version_minor": 0
      },
      "text/plain": [
       "FloatProgress(value=0.0, bar_style='info', description='Progress:', layout=Layout(height='25px', width='50%'),…"
      ]
     },
     "metadata": {},
     "output_type": "display_data"
    },
    {
     "name": "stdout",
     "output_type": "stream",
     "text": [
      "+------------+------------+-------------+-------------+----------+----------+------------+---------------+--------------------+--------------------+--------------------+--------+---------------+-----------+---------+-------------+--------------------+-------------+-----------+-------+\n",
      "|EPSG:31370_x|EPSG:31370_y|EPSG:4326_lat|EPSG:4326_lon|address_id|box_number|house_number|municipality_id|municipality_name_de|municipality_name_fr|municipality_name_nl|postcode|    postname_fr|postname_nl|street_id|streetname_de|       streetname_fr|streetname_nl|region_code| status|\n",
      "+------------+------------+-------------+-------------+----------+----------+------------+---------------+--------------------+--------------------+--------------------+--------+---------------+-----------+---------+-------------+--------------------+-------------+-----------+-------+\n",
      "|150915.63200|152830.76200|     50.68606|      4.38171|   1522363|      B001|          93|          25014|                null|     Braine-l'Alleud|                null|    1420|Braine-l'Alleud|       null|  7700328|         null|Chaussée Reine As...|         null|     BE-WAL|current|\n",
      "|150915.63200|152830.76200|     50.68606|      4.38171|   1522364|      C003|          93|          25014|                null|     Braine-l'Alleud|                null|    1420|Braine-l'Alleud|       null|  7700328|         null|Chaussée Reine As...|         null|     BE-WAL|current|\n",
      "|151281.99480|152320.99020|     50.68148|      4.38689|   1522367|      D004|         103|          25014|                null|     Braine-l'Alleud|                null|    1420|Braine-l'Alleud|       null|  7700317|         null|Boulevard de l'Eu...|         null|     BE-WAL|current|\n",
      "|150994.14900|152550.05500|     50.68354|      4.38282|   1522368|      0001|          17|          25014|                null|     Braine-l'Alleud|                null|    1420|Braine-l'Alleud|       null|  7700317|         null|Boulevard de l'Eu...|         null|     BE-WAL|current|\n",
      "|150994.14900|152550.05500|     50.68354|      4.38282|   1522371|      C003|          17|          25014|                null|     Braine-l'Alleud|                null|    1420|Braine-l'Alleud|       null|  7700317|         null|Boulevard de l'Eu...|         null|     BE-WAL|current|\n",
      "|150994.14900|152550.05500|     50.68354|      4.38282|   1522376|      E008|          17|          25014|                null|     Braine-l'Alleud|                null|    1420|Braine-l'Alleud|       null|  7700317|         null|Boulevard de l'Eu...|         null|     BE-WAL|current|\n",
      "|151009.75000|152545.21400|     50.68350|      4.38304|   1522380|      B003|          19|          25014|                null|     Braine-l'Alleud|                null|    1420|Braine-l'Alleud|       null|  7700317|         null|Boulevard de l'Eu...|         null|     BE-WAL|current|\n",
      "|151009.75000|152545.21400|     50.68350|      4.38304|   1522385|      D008|          19|          25014|                null|     Braine-l'Alleud|                null|    1420|Braine-l'Alleud|       null|  7700317|         null|Boulevard de l'Eu...|         null|     BE-WAL|current|\n",
      "|151009.75000|152545.21400|     50.68350|      4.38304|   1522386|      E009|          19|          25014|                null|     Braine-l'Alleud|                null|    1420|Braine-l'Alleud|       null|  7700317|         null|Boulevard de l'Eu...|         null|     BE-WAL|current|\n",
      "|151009.75000|152545.21400|     50.68350|      4.38304|   1522388|      F011|          19|          25014|                null|     Braine-l'Alleud|                null|    1420|Braine-l'Alleud|       null|  7700317|         null|Boulevard de l'Eu...|         null|     BE-WAL|current|\n",
      "|150949.46300|152500.90000|     50.68310|      4.38218|   1522391|      0002|          26|          25014|                null|     Braine-l'Alleud|                null|    1420|Braine-l'Alleud|       null|  7700317|         null|Boulevard de l'Eu...|         null|     BE-WAL|current|\n",
      "|150949.46300|152500.90000|     50.68310|      4.38218|   1522397|      A001|          26|          25014|                null|     Braine-l'Alleud|                null|    1420|Braine-l'Alleud|       null|  7700317|         null|Boulevard de l'Eu...|         null|     BE-WAL|current|\n",
      "|151038.46800|152533.43200|     50.68339|      4.38344|   1522400|      0014|          29|          25014|                null|     Braine-l'Alleud|                null|    1420|Braine-l'Alleud|       null|  7700317|         null|Boulevard de l'Eu...|         null|     BE-WAL|current|\n",
      "|151038.46800|152533.43200|     50.68339|      4.38344|   1522404|      B004|          29|          25014|                null|     Braine-l'Alleud|                null|    1420|Braine-l'Alleud|       null|  7700317|         null|Boulevard de l'Eu...|         null|     BE-WAL|current|\n",
      "|151038.46800|152533.43200|     50.68339|      4.38344|   1522405|      B007|          29|          25014|                null|     Braine-l'Alleud|                null|    1420|Braine-l'Alleud|       null|  7700317|         null|Boulevard de l'Eu...|         null|     BE-WAL|current|\n",
      "|151038.46800|152533.43200|     50.68339|      4.38344|   1522408|      C009|          29|          25014|                null|     Braine-l'Alleud|                null|    1420|Braine-l'Alleud|       null|  7700317|         null|Boulevard de l'Eu...|         null|     BE-WAL|current|\n",
      "|151038.46800|152533.43200|     50.68339|      4.38344|   1522412|      D015|          29|          25014|                null|     Braine-l'Alleud|                null|    1420|Braine-l'Alleud|       null|  7700317|         null|Boulevard de l'Eu...|         null|     BE-WAL|current|\n",
      "|151000.10200|152480.57800|     50.68292|      4.38290|   1522415|      B002|          36|          25014|                null|     Braine-l'Alleud|                null|    1420|Braine-l'Alleud|       null|  7700317|         null|Boulevard de l'Eu...|         null|     BE-WAL|current|\n",
      "|151000.10200|152480.57800|     50.68292|      4.38290|   1522416|      C004|          36|          25014|                null|     Braine-l'Alleud|                null|    1420|Braine-l'Alleud|       null|  7700317|         null|Boulevard de l'Eu...|         null|     BE-WAL|current|\n",
      "|151000.10200|152480.57800|     50.68292|      4.38290|   1522417|      C005|          36|          25014|                null|     Braine-l'Alleud|                null|    1420|Braine-l'Alleud|       null|  7700317|         null|Boulevard de l'Eu...|         null|     BE-WAL|current|\n",
      "+------------+------------+-------------+-------------+----------+----------+------------+---------------+--------------------+--------------------+--------------------+--------+---------------+-----------+---------+-------------+--------------------+-------------+-----------+-------+\n",
      "only showing top 20 rows"
     ]
    }
   ],
   "source": [
    "# Read addresses data\n",
    "addresses = spark.read.option(\"header\",True).csv(\"/home/glue_user/data\")\n",
    "addresses.show()"
   ]
  },
  {
   "cell_type": "code",
   "execution_count": null,
   "id": "8e95a7ca-0886-4fdc-b116-0a30436267f4",
   "metadata": {},
   "outputs": [],
   "source": []
  }
 ],
 "metadata": {
  "kernelspec": {
   "display_name": "Python 3",
   "language": "python",
   "name": "python3"
  },
  "language_info": {
   "codemirror_mode": {
    "name": "ipython",
    "version": 3
   },
   "file_extension": ".py",
   "mimetype": "text/x-python",
   "name": "python",
   "nbconvert_exporter": "python",
   "pygments_lexer": "ipython3",
   "version": "3.7.10"
  }
 },
 "nbformat": 4,
 "nbformat_minor": 5
}
